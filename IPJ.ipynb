{
 "cells": [
  {
   "cell_type": "code",
   "execution_count": 9,
   "metadata": {},
   "outputs": [],
   "source": [
    "import pandas as pd\n",
    "import matplotlib.pyplot as plt\n",
    "from datetime import datetime\n",
    "import time\n",
    "import numpy as np\n",
    "import plotly.graph_objects as go\n",
    "import plotly.express as px\n",
    "from plotly.subplots import make_subplots\n",
    "import streamlit as st"
   ]
  },
  {
   "cell_type": "markdown",
   "metadata": {},
   "source": [
    "**Author: K.Bodrova:**"
   ]
  },
  {
   "cell_type": "code",
   "execution_count": 10,
   "metadata": {},
   "outputs": [],
   "source": [
    "# Function to read and clean data from CSV files\n",
    "def read_and_clean_data(file_production, file_consumption):\n",
    "    # Read data from CSV files\n",
    "    production_df = pd.read_csv(file_production, delimiter=';')\n",
    "    consumption_df = pd.read_csv(file_consumption, delimiter=';')\n",
    "\n",
    "    # Convert date columns to DateTime objects\n",
    "    production_df['Date'] = pd.to_datetime(production_df['Datum'], format='%d.%m.%Y')\n",
    "    production_df['Starttime'] = pd.to_datetime(production_df['Anfang'], format='%H:%M')\n",
    "    consumption_df['Date'] = pd.to_datetime(consumption_df['Datum'], format='%d.%m.%Y')\n",
    "    consumption_df['Starttime'] = pd.to_datetime(consumption_df['Anfang'], format='%H:%M')\n",
    "    \n",
    "    # Clean data formats for renewable energies\n",
    "    production_df['Biomass'] = production_df['Biomasse [MWh] Originalauflösungen'].str.replace(\".\", \"\").str.replace(\",\", \".\").replace('-', 0).astype(float)\n",
    "    production_df['Hydroelectric'] = production_df['Wasserkraft [MWh] Originalauflösungen'].str.replace(\".\", \"\").str.replace(\",\", \".\").replace('-', 0).astype(float)\n",
    "    production_df['Wind Offshore'] = production_df['Wind Offshore [MWh] Originalauflösungen'].str.replace(\".\", \"\").str.replace(\",\", \".\").replace('-', 0).astype(float)\n",
    "    production_df['Wind Onshore'] = production_df['Wind Onshore [MWh] Originalauflösungen'].str.replace(\".\", \"\").str.replace(\",\", \".\").replace('-', 0).astype(float)\n",
    "    production_df['Photovoltaic'] = production_df['Photovoltaik [MWh] Originalauflösungen'].str.replace(\".\", \"\").str.replace(\",\", \".\").replace('-', 0).astype(float)\n",
    "    production_df['Other Renewable'] = production_df['Sonstige Erneuerbare [MWh] Originalauflösungen'].str.replace(\".\", \"\").str.replace(\",\", \".\").replace('-', 0).astype(float)\n",
    "\n",
    "    # Clean data formats for total consumption\n",
    "    consumption_df['Consumption'] = consumption_df['Gesamt (Netzlast) [MWh] Originalauflösungen'].str.replace(\".\", \"\").str.replace(\",\", \".\").astype(float)\n",
    "\n",
    "    # Create a new column for total production\n",
    "    production_df['Total Production'] = production_df[['Biomass', 'Hydroelectric', 'Wind Offshore', 'Wind Onshore', 'Photovoltaic', 'Other Renewable']].sum(axis=1)\n",
    "\n",
    "    # Gruppierung der Produktionsdaten nach Jahr und Summierung der erneuerbaren Energietypen\n",
    "    production_by_type_and_year = production_df.groupby(production_df['Date'].dt.year)[['Biomass', 'Hydroelectric', 'Wind Offshore', 'Wind Onshore', 'Photovoltaic', 'Other Renewable']].sum()\n",
    " \n",
    "   \n",
    "    pd.options.display.float_format = '{:.2f}'.format  # Set Pandas to display floating-point numbers with two decimal places\n",
    "\n",
    "    data_by_year = {}  # Aggregation der Daten nach Jahren und Speicherung in einem Dictionary\n",
    "\n",
    "    for year, data in production_df.groupby(production_df['Date'].dt.year):\n",
    "        production_data = data[['Biomass', 'Hydroelectric', 'Wind Offshore', 'Wind Onshore', 'Photovoltaic', 'Other Renewable']].sum()\n",
    "        consumption_data = consumption_df[consumption_df['Date'].dt.year == year]['Consumption']\n",
    "        total_consumption = consumption_data.sum()\n",
    "        data_by_year[year] = {\n",
    "            'Production': production_data.sum(),\n",
    "            'Consumption': total_consumption,\n",
    "            'Biomass': production_data['Biomass'],\n",
    "            'Hydroelectric': production_data['Hydroelectric'],\n",
    "            'Wind Offshore': production_data['Wind Offshore'],\n",
    "            'Wind Onshore': production_data['Wind Onshore'],\n",
    "            'Photovoltaic': production_data['Photovoltaic'],\n",
    "            'Other Renewable': production_data['Other Renewable']\n",
    "        }\n",
    "\n",
    "    total_renewable_production = production_df[['Biomass', 'Hydroelectric', 'Wind Offshore', 'Wind Onshore', 'Photovoltaic', 'Other Renewable']].sum(axis=1)\n",
    "    total_consumption = consumption_df['Consumption']\n",
    "\n",
    "    return production_df, consumption_df, total_renewable_production, total_consumption, data_by_year"
   ]
  },
  {
   "cell_type": "markdown",
   "metadata": {},
   "source": [
    "**Authors: M.Lauterbach, K.Bodrova:**"
   ]
  },
  {
   "cell_type": "code",
   "execution_count": 11,
   "metadata": {},
   "outputs": [],
   "source": [
    "installed_power_dict = {2020: 122603, 2021: 129551, 2022: 133808}\n",
    "\n",
    "def find_dark_lulls_and_for_years(selected_date, production_df, dark_lulls_dict, columns_to_clean):\n",
    "    \n",
    "    # Get the year of the selected date\n",
    "    year = selected_date.year\n",
    "    \n",
    "    # Installed power for the corresponding year\n",
    "    installed_power = installed_power_dict.get(year, None)\n",
    "    \n",
    "    if installed_power is None:\n",
    "        print(f\"No installed power found for the year {year}.\")\n",
    "        return None\n",
    "    \n",
    "    # Filter data for the selected date\n",
    "    selected_production = production_df[production_df['Date'] == selected_date]\n",
    "    \n",
    "    # Sum the renewable energy production for the selected date\n",
    "    total_renewable_production_selected_date = selected_production[columns_to_clean].sum(axis=1).sum()\n",
    "    \n",
    "    # Compare with installed power for different thresholds\n",
    "    threshold_10_percent = installed_power * 0.1\n",
    "    threshold_20_percent = installed_power * 0.2\n",
    "    \n",
    "    if total_renewable_production_selected_date/24 < threshold_10_percent:\n",
    "        dark_lulls_dict[\"up to 10%\"].append(selected_date)\n",
    "    elif total_renewable_production_selected_date/24 < threshold_20_percent:\n",
    "        dark_lulls_dict[\"up to 20%\"].append(selected_date)\n",
    "    else:\n",
    "        return None\n",
    "\n",
    "def find_dark_lulls_for_years(production_df, columns_to_clean):\n",
    "    # Loop through all days in the years 2020 to 2022\n",
    "    start_date = datetime(2020, 1, 1)\n",
    "    end_date = datetime(2022, 12, 31)\n",
    "\n",
    "    dark_lulls_dict = {\"up to 10%\": [], \"up to 20%\": []}\n",
    "    current_date = start_date\n",
    "    \n",
    "    while current_date <= end_date:\n",
    "        find_dark_lulls_and_for_years(current_date, production_df, dark_lulls_dict, columns_to_clean)\n",
    "        current_date += pd.DateOffset(days=1)\n",
    "    \n",
    "    # Sort lists by date\n",
    "    for label, days_list in dark_lulls_dict.items():\n",
    "        dark_lulls_dict[label] = sorted(days_list)\n",
    "    \n",
    "\n",
    "    # Display the sorted lists\n",
    "    print(\"\\nList of days up to 10%:\")\n",
    "    for day in dark_lulls_dict[\"up to 10%\"]:\n",
    "        print(day.strftime('%d.%m.%Y'))\n",
    "\n",
    "    print(\"\\nList of days up to 20%:\")\n",
    "    for day in dark_lulls_dict[\"up to 20%\"]:\n",
    "        print(day.strftime('%d.%m.%Y'))\n",
    "\n",
    "    print(\"\\nNumber of days up to 10%:\", len(dark_lulls_dict[\"up to 10%\"]))\n",
    "    print(\"Number of days up to 20%:\", len(dark_lulls_dict[\"up to 20%\"]))\n",
    "\n"
   ]
  },
  {
   "cell_type": "markdown",
   "metadata": {},
   "source": [
    "**Author: K.Bodrova:**"
   ]
  },
  {
   "cell_type": "code",
   "execution_count": 12,
   "metadata": {},
   "outputs": [],
   "source": [
    "# Funktion zur Berechnung und Anzeige des Histogramms für erneuerbare Anteile\n",
    "def calculate_and_display_renewable_shares_histogram(total_renewable_production, total_consumption):\n",
    "    # Berechnung der prozentualen Anteile der erneuerbaren Energieerzeugung am Gesamtverbrauch\n",
    "    percent_renewable = total_renewable_production / total_consumption * 100 \n",
    "\n",
    "    counts, intervals = np.histogram(percent_renewable, bins = np.arange(0, 111, 1))  # Use NumPy to calculate the histogram of the percentage distribution\n",
    "\n",
    "    x = intervals[:-1]                               # Define the x-axis values as the bin edges\n",
    "    labels = [f'{i}%' for i in range(0, 111, 1)]     # Create labels for x-axis ticks (von 0 bis 111 in Einzelnschritten)\n",
    "\n",
    "    fig = go.Figure(data=[go.Bar(x=x, y=counts)])    # Create a bar chart using Plotly\n",
    "\n",
    "    fig.update_layout(xaxis=dict(tickmode='array', tickvals=list(range(0, 111, 5)), ticktext=labels[::5]))  # X-axis label settings\n",
    "\n",
    "    # Title and axis labels settings\n",
    "    fig.update_layout(title='Anzahl der Viertelstunden in Jahren 2020-2022 mit 0-110 % EE-Anteilen',\n",
    "                  xaxis_title='Prozentsatz erneuerbarer Energie',\n",
    "                  yaxis_title='Anzahl der Viertelstunden')\n",
    "\n",
    "    fig.show()\n",
    " "
   ]
  },
  {
   "cell_type": "markdown",
   "metadata": {},
   "source": [
    "**Author: K. Bodrova, Diagram: O. Pearse-Danker:**"
   ]
  },
  {
   "cell_type": "code",
   "execution_count": 13,
   "metadata": {},
   "outputs": [],
   "source": [
    "# Function to plot energy consumption and production for a selected date\n",
    "def plot_energy_consumption_and_production(production_df, consumption_df, columns_to_clean):\n",
    "    # Prompt user to enter the selected date\n",
    "    selected_date_str = input(\"Enter the selected date (format: YYYY-MM-DD): \")\n",
    "    \n",
    "    try:\n",
    "        selected_date = pd.to_datetime(selected_date_str)\n",
    "    except ValueError:\n",
    "        print(\"Invalid date format. Please use the format YYYY-MM-DD.\")\n",
    "        return\n",
    "\n",
    "    # Filter data for the selected date\n",
    "    selected_production = production_df[production_df['Date'] == selected_date]\n",
    "    selected_consumption = consumption_df[consumption_df['Date'] == selected_date]\n",
    "\n",
    "    total_renewable_production_selected_date = selected_production[columns_to_clean].sum(axis=1).sum()\n",
    "    print(f\"Summe der erneuerbaren Energien am {selected_date}: {total_renewable_production_selected_date} MWh\")\n",
    "\n",
    "    # Plotting with Plotly\n",
    "    # Create a new Plotly subplot figure\n",
    "    fig = make_subplots()\n",
    "\n",
    "    # Add the energy consumption trace\n",
    "    fig.add_trace(\n",
    "        go.Scatter(\n",
    "            x=selected_consumption['Starttime'].dt.strftime('%H:%M'),\n",
    "            y=selected_consumption['Consumption'],\n",
    "            mode='lines',\n",
    "            name='Total Consumption',\n",
    "            fill='tozeroy'\n",
    "        )\n",
    "    )\n",
    "\n",
    "    # Add the renewable energy production trace\n",
    "    fig.add_trace(\n",
    "        go.Scatter(\n",
    "            x=selected_production['Starttime'].dt.strftime('%H:%M'),\n",
    "            y=selected_production['Total Production'],\n",
    "            mode='lines',\n",
    "            name='Total Renewable Production',\n",
    "            fill='tozeroy'\n",
    "        )\n",
    "    )\n",
    "\n",
    "    fig.update_layout(\n",
    "        title=f'Energy Production and Consumption on {selected_date}',\n",
    "        xaxis=dict(title='Time (hours)'),\n",
    "        yaxis=dict(title='Energy (MWh)'),\n",
    "        showlegend=True\n",
    "    )\n",
    "\n",
    "    # Show the plot\n",
    "    fig.show()"
   ]
  },
  {
   "cell_type": "markdown",
   "metadata": {},
   "source": [
    "**Author: K.Bodrova:**"
   ]
  },
  {
   "cell_type": "code",
   "execution_count": 14,
   "metadata": {},
   "outputs": [],
   "source": [
    "# Funktion zur Berechnung und Anzeige der aggregierten Daten pro Jahr\n",
    "def calculate_and_display_data_by_year(data_by_year):\n",
    "    for year, data in data_by_year.items():\n",
    "        print(f\"Jahr: {year}\")\n",
    "        print(f\"Gesamte erneuerbare Energieproduktion: {data['Production']} MWh\")\n",
    "        print(f\"Gesamtverbrauch: {data['Consumption']} MWh\")\n",
    "        print(f\"Biomasse: {data['Biomass']} MWh\")\n",
    "        print(f\"Wasserkraft: {data['Hydroelectric']} MWh\")\n",
    "        print(f\"Wind Offshore: {data['Wind Offshore']} MWh\")\n",
    "        print(f\"Wind Onshore: {data['Wind Onshore']} MWh\")\n",
    "        print(f\"Photovoltaik: {data['Photovoltaic']} MWh\")\n",
    "        print(f\"Andere erneuerbare Energien: {data['Other Renewable']} MWh\")\n",
    "        print()\n"
   ]
  },
  {
   "cell_type": "markdown",
   "metadata": {},
   "source": [
    "**Authors: L.Dorda, N.Clasen, B.Wolf:**"
   ]
  },
  {
   "cell_type": "code",
   "execution_count": 15,
   "metadata": {},
   "outputs": [],
   "source": [
    "# Function to process and plot data for the year 2030\n",
    "def process_and_plot_2030_data(production_df, consumption_df):\n",
    "    # Abfrage datum\n",
    "    while True:\n",
    "        selected_date_str = input(\"Bitte geben Sie ein Datum IM JAHR 2030 im Format TT.MM.JJJJ ein: \")\n",
    "        selected_date = datetime.strptime(selected_date_str, \"%d.%m.%Y\")\n",
    "\n",
    "        if selected_date.year == 2030:\n",
    "            break\n",
    "        else:\n",
    "            print(\"Bitte geben Sie ein Datum aus dem Jahr 2030 an.\")\n",
    "\n",
    "    # Define a dataframe of the production of 2022\n",
    "    production_2022df = production_df[production_df['Date'].dt.year == 2022]\n",
    "    prognoseErzeugung2030df = production_2022df.copy()\n",
    "    prognoseErzeugung2030df['Date'] = prognoseErzeugung2030df['Date'].map(lambda x: x.replace(year=2030))\n",
    "\n",
    "    # Define a dataframe of the consumption of 2022\n",
    "    consumption_2022df = consumption_df[consumption_df['Date'].dt.year == 2022]\n",
    "    prognoseVerbrauch2030df = consumption_2022df.copy()\n",
    "    prognoseVerbrauch2030df['Date'] = prognoseVerbrauch2030df['Date'].map(lambda x: x.replace(year=2030))\n",
    "\n",
    "    # CHANGE LATER Define the factors Verbrauch 2022 to 2030 von Bjarne Noah\n",
    "    # Verbrauch2022_2030_factor = 1.157  # assuming consumption will increase by 10% from 2022 compared to 2030\n",
    "\n",
    "    def scale_2030_factorsConsumption(df, Verbrauch2022_2030_factor):\n",
    "        df_copy = df.copy()\n",
    "        df_copy['Consumption'] *= Verbrauch2022_2030_factor\n",
    "        return df_copy\n",
    "\n",
    "    '''\n",
    "    #LATER put in Verbrauch 2030 fron noah&bjarne\n",
    "    prognoseVerbrauch2030df = energyConsumption(consumption_df)\n",
    "    '''\n",
    "\n",
    "    # Define the factors\n",
    "    # müssen noch angepasst werden\n",
    "    windonshore_2030_factor = 2.03563  # assuming Wind Onshore will increase by 203% from 2022 compared to 2030\n",
    "    windoffshore_2030_factor = 3.76979  # assuming Wind Offshore will 376% increase\n",
    "    pv_2030_factor = 3.5593  # assuming PV will increase by 350%\n",
    "\n",
    "    def scale_2030_factors(df, windonshore_factor, windoffshore_factor, pv_factor):\n",
    "        df_copy = df.copy()\n",
    "        df_copy['Wind Onshore'] *= windonshore_factor\n",
    "        df_copy['Wind Offshore'] *= windoffshore_factor\n",
    "        df_copy['Photovoltaic'] *= pv_factor\n",
    "        df_copy['Total Production'] = df_copy[['Biomass', 'Hydroelectric', 'Wind Offshore', 'Wind Onshore', 'Photovoltaic', 'Other Renewable']].sum(axis=1)\n",
    "        return df_copy\n",
    "\n",
    "    # Scale the data by the factors\n",
    "    scaled_production_df = scale_2030_factors(prognoseErzeugung2030df, windonshore_2030_factor, windoffshore_2030_factor,\n",
    "                                              pv_2030_factor)\n",
    "\n",
    "    # Filter the data for the selected date\n",
    "    scaled_selected_production_df = scaled_production_df[scaled_production_df['Date'] == selected_date]\n",
    "\n",
    "    verbrauch2030df = energyConsumption(consumption_df)\n",
    "\n",
    "    # scaled_consumption_df = scale_2030_factorsConsumption(prognoseVerbrauch2030df, Verbrauch2022_2030_factor)\n",
    "\n",
    "    # Filter the data for the selected date\n",
    "    # scaled_selected_consumption_df = scaled_consumption_df[scaled_consumption_df[DATE] == selected_date]\n",
    "\n",
    "    ### subplot only consumption 2030\n",
    "\n",
    "    ## Plotly daily production and consumption 2030\n",
    "\n",
    "    selected_consumption2030df = verbrauch2030df[verbrauch2030df['Date'] == selected_date]\n",
    "    scaled_selected_production_df = scaled_selected_production_df[scaled_selected_production_df['Date'] == selected_date]\n",
    "\n",
    "    fig = make_subplots()\n",
    "\n",
    "    # Add the energy consumption trace\n",
    "    fig.add_trace(\n",
    "        go.Scatter(\n",
    "            x=selected_consumption2030df['Starttime'].dt.strftime('%H:%M'),\n",
    "            y=selected_consumption2030df['Verbrauch [MWh]'],\n",
    "            mode='lines',\n",
    "            name='Total Consumption',\n",
    "            fill='tozeroy'\n",
    "        )\n",
    "    )\n",
    "\n",
    "    # Add the renewable energy production trace\n",
    "    fig.add_trace(\n",
    "        go.Scatter(\n",
    "            x=scaled_selected_production_df['Starttime'].dt.strftime('%H:%M'),\n",
    "            y=scaled_selected_production_df['Total Production'],\n",
    "            mode='lines',\n",
    "            name='Total Renewable Production',\n",
    "            fill='tozeroy'\n",
    "        )\n",
    "    )\n",
    "\n",
    "    fig.update_layout(\n",
    "        title=f'Energy Production and Consumption on {selected_date}',\n",
    "        xaxis=dict(title='Time (hours)'),\n",
    "        yaxis=dict(title='Energy (MWh)'),\n",
    "        showlegend=True\n",
    "    )\n",
    "\n",
    "    fig.show()\n",
    "\n",
    "\n",
    "    # code to do 2030 quarter hours\n",
    "    total_scaled_renewable_production = scaled_production_df[['Biomass', 'Hydroelectric', 'Wind Offshore', 'Wind Onshore', 'Photovoltaic', 'Other Renewable']].sum(axis=1)\n",
    "    total_consumption = verbrauch2030df['Verbrauch [MWh]']\n",
    "\n",
    "    # Berechnung der prozentualen Anteile der erneuerbaren Energieerzeugung am Gesamtverbrauch\n",
    "    percent_renewable = total_scaled_renewable_production / total_consumption * 100\n",
    "\n",
    "    counts, intervals = np.histogram(percent_renewable, bins=np.arange(0, 330, 1))  # Use NumPy to calculate the histogram of the percentage distribution\n",
    "\n",
    "    x = intervals[:-1]  # Define the x-axis values as the bin edges\n",
    "    labels = [f'{i}%' for i in range(0, 330, 1)]  # Create labels for x-axis ticks (von 0 bis 111 in Einzelnschritten)\n",
    "\n",
    "    fig = go.Figure(data=[go.Bar(x=x, y=counts)])  # Create a bar chart using Plotly\n",
    "    fig.update_layout(\n",
    "        xaxis=dict(tickmode='array', tickvals=list(range(0, 330, 5)), ticktext=labels[::5]))  # X-axis label settings\n",
    "\n",
    "    # Title and axis labels settings\n",
    "    fig.update_layout(title='Anzahl der Viertelstunden im Jahren 2030 mit 0-330 % EE-Anteil',\n",
    "                  xaxis_title='Prozentsatz erneuerbarer Energie',\n",
    "                  yaxis_title='Anzahl der Viertelstunden')\n",
    "\n",
    "    fig.show()\n",
    "\n",
    "    # how many quarter hours are in scaled_production_df\n",
    "    print(\"soviele VS sind in scaled_production_df:\")\n",
    "    print(len(scaled_selected_production_df))\n",
    "    print(\"Viertelstunden aus 2030 expected 35040 hier: \")\n",
    "\n",
    "    # Berechnen Sie den prozentualen Anteil der erneuerbaren Energieerzeugung am Verbrauch\n",
    "    prozentualerAnteil = total_scaled_renewable_production / verbrauch2030df['Verbrauch [MWh]'] * 100\n",
    "    print(percent_renewable)\n",
    "\n",
    "    # Initialisieren Sie eine Liste für die Datensätze\n",
    "    data = []\n",
    "\n",
    "    # Iterieren Sie über die Prozentsätze von 0 bis 100\n",
    "    for i in range(301):\n",
    "        # Zählen die Viertelstunden über oder gleich dem Prozentsatz\n",
    "        anzahlViertelstundenProzent = len(percent_renewable[percent_renewable >= i])\n",
    "         # Fügen Sie einen Datensatz zum Speichern in die Liste hinzu\n",
    "        data.append({'Prozentsatz': i, 'Anzahl_Viertelstunden': anzahlViertelstundenProzent})\n",
    "    \n",
    "    result_df = pd.DataFrame(data) # DataFrame erstellen\n",
    "\n",
    "\n",
    "    #print(result_df) # Check the result\n",
    "\n",
    "    fig = go.Figure()\n",
    "\n",
    "    # Fügen einen Balken für die Anzahl der Viertelstunden für jeden Prozentsatz hinzu\n",
    "    fig.add_trace(go.Bar(x=result_df['Prozentsatz'], y=result_df['Anzahl_Viertelstunden']))\n",
    "\n",
    "    # Aktualisieren Sie das Layout für Titel und Achsenbeschriftungen\n",
    "    fig.update_layout(\n",
    "        title='Anzahl der Viertelstunden mit erneuerbarer Energieerzeugung über oder gleich dem Verbrauch',\n",
    "        xaxis=dict(title='Prozentsatz erneuerbarer Energie'),\n",
    "        yaxis=dict(title='Anzahl der Viertelstunden')\n",
    "    )\n",
    "\n",
    "    fig.show()\n",
    "\n",
    "\n",
    "\n",
    "\n",
    "\n",
    "# Funktion zur Berechnung und Anzeige der aggregierten Daten pro Jahr\n",
    "# Author: Bjarne, Noah\n",
    "# Funktion\n",
    "def energyConsumption(consumption_df):\n",
    "    wärmepumpeHochrechnung2030 = wärmepumpe()\n",
    "    eMobilitätHochrechnung2030 = eMobilität()\n",
    "\n",
    "    print('\\n', 'wärmepumpeHochrechnung2030', f\"{wärmepumpeHochrechnung2030:,.0f}\".replace(\",\", \".\"))\n",
    "    print('\\n', 'eMobilitätHochrechnung2030', f\"{eMobilitätHochrechnung2030:,.0f}\".replace(\",\", \".\"))\n",
    "\n",
    "    verbrauch2022df = consumption_df[consumption_df['Date'].dt.year == 2022]\n",
    "    prognose2030df = verbrauch2022df.copy()\n",
    "    faktor = faktorRechnung(verbrauch2022df, wärmepumpeHochrechnung2030, eMobilitätHochrechnung2030)\n",
    "    print(faktor)\n",
    "    # Change the year in 'Datum' column to 2030\n",
    "    prognose2030df['Date'] = prognose2030df['Date'].map(lambda x: x.replace(year=2030))\n",
    "\n",
    "    prognose2030df['Verbrauch [MWh]'] = prognose2030df['Consumption'] * faktor\n",
    "\n",
    "    combined_df = pd.concat([verbrauch2022df[['Starttime', 'Consumption']], prognose2030df[['Verbrauch [MWh]']]], axis=1)\n",
    "    #print(combined_df[['Gesamt (Netzlast) [MWh] Originalauflösungen', 'Verbrauch [MWh]']])\n",
    "\n",
    "    return prognose2030df\n",
    "\n",
    "\n",
    "def wärmepumpe():\n",
    "    wärmepumpeAnzahl2030 = 500000 * (2030 - 2023)  # 500k pro Jahr bis 2023\n",
    "\n",
    "    heizstunden = 2000\n",
    "    nennleistung = 15  # 15kW\n",
    "    luftWasserVerhältnis = 206 / 236\n",
    "    erdwärmeVerhältnis = 30 / 236\n",
    "    luftWasserJAZ = 3.1\n",
    "    erdwärmeJAZ = 4.1\n",
    "\n",
    "    # Berechnung der einzelnen Pumpe\n",
    "    luftWasserVerbrauch = wärmepumpeVerbrauchImJahr(heizstunden, nennleistung, luftWasserJAZ)  # in kW/h\n",
    "    erdwärmeVerbrauch = wärmepumpeVerbrauchImJahr(heizstunden, nennleistung, erdwärmeJAZ)  # in kW/h\n",
    "\n",
    "    luftWasserVerhältnisAnzahl = verhältnisAnzahl(wärmepumpeAnzahl2030, luftWasserVerhältnis)\n",
    "    erdwärmeVerhältnisAnzahl = verhältnisAnzahl(wärmepumpeAnzahl2030, erdwärmeVerhältnis)\n",
    "\n",
    "    return luftWasserVerbrauch * luftWasserVerhältnisAnzahl + erdwärmeVerbrauch * erdwärmeVerhältnisAnzahl  # kWh\n",
    "\n",
    "\n",
    "# berechnung des Verbrauchs einer Wärmepumpe im Jahr\n",
    "def wärmepumpeVerbrauchImJahr(heizstunden, nennleistung, jaz):\n",
    "    # (Heizstunden * Nennleistung) / JAZ = Stromverbrauch pro Jahr\n",
    "    return (heizstunden * nennleistung) / jaz\n",
    "\n",
    "\n",
    "def verhältnisAnzahl(wärmepumpeAnzahl2030, verhältnis):\n",
    "    return wärmepumpeAnzahl2030 * verhältnis\n",
    "\n",
    "\n",
    "def eMobilität():\n",
    "    eMobilität2030 = 15000000  # 15mio bis 20230\n",
    "    eMobilitätBisher = 1307901  # 1.3 mio\n",
    "    verbrauchPro100km = 21  # 21kWh\n",
    "    kilometerProJahr = 15000  # 15.000km\n",
    "\n",
    "    eMobilitätVerbrauch = (verbrauchPro100km / 100) * kilometerProJahr  # kWh\n",
    "\n",
    "    return (eMobilität2030 - eMobilitätBisher) * eMobilitätVerbrauch\n",
    "\n",
    "\n",
    "def faktorRechnung(verbrauch2022df, wärmepumpeHochrechnung2030, eMobilitätHochrechnung2030):\n",
    "    gesamtVerbrauch2022 = otherFactors() + verbrauch2022df[\n",
    "        'Consumption'].sum() * 1000  # mal1000 weil MWh -> kWh\n",
    "    #print('\\n', 'gesamtVerbrauch2022', f\"{gesamtVerbrauch2022:,.0f}\".replace(\",\", \".\"))\n",
    "    return (gesamtVerbrauch2022 + wärmepumpeHochrechnung2030 + eMobilitätHochrechnung2030) / gesamtVerbrauch2022\n",
    "\n",
    "\n",
    "def prognoseRechnung(verbrauch2022df, faktor):\n",
    "    verbrauch2030df = verbrauch2022df['Verbrauch [kWh]'] * faktor\n",
    "    return verbrauch2030df\n",
    "\n",
    "\n",
    "def otherFactors():\n",
    "    # positive Faktoren\n",
    "    railway = 5000  # kWh\n",
    "    batterieProdAndServerRooms = 13000  # kwh\n",
    "    powerNetLoss = 1000\n",
    "\n",
    "    # negative Faktoren\n",
    "    efficiency = 51000\n",
    "    other = 6000\n",
    "\n",
    "    return railway + batterieProdAndServerRooms + powerNetLoss - efficiency - other\n"
   ]
  },
  {
   "cell_type": "code",
   "execution_count": 16,
   "metadata": {},
   "outputs": [
    {
     "name": "stdout",
     "output_type": "stream",
     "text": [
      "\n",
      " wärmepumpeHochrechnung2030 32.820.813.719\n",
      "\n",
      " eMobilitätHochrechnung2030 43.130.111.850\n",
      "1.157366368381115\n"
     ]
    },
    {
     "data": {
      "application/vnd.plotly.v1+json": {
       "config": {
        "plotlyServerURL": "https://plot.ly"
       },
       "data": [
        {
         "fill": "tozeroy",
         "mode": "lines",
         "name": "Total Consumption",
         "type": "scatter",
         "x": [
          "00:00",
          "00:15",
          "00:30",
          "00:45",
          "01:00",
          "01:15",
          "01:30",
          "01:45",
          "02:00",
          "02:15",
          "02:30",
          "02:45",
          "03:00",
          "03:15",
          "03:30",
          "03:45",
          "04:00",
          "04:15",
          "04:30",
          "04:45",
          "05:00",
          "05:15",
          "05:30",
          "05:45",
          "06:00",
          "06:15",
          "06:30",
          "06:45",
          "07:00",
          "07:15",
          "07:30",
          "07:45",
          "08:00",
          "08:15",
          "08:30",
          "08:45",
          "09:00",
          "09:15",
          "09:30",
          "09:45",
          "10:00",
          "10:15",
          "10:30",
          "10:45",
          "11:00",
          "11:15",
          "11:30",
          "11:45",
          "12:00",
          "12:15",
          "12:30",
          "12:45",
          "13:00",
          "13:15",
          "13:30",
          "13:45",
          "14:00",
          "14:15",
          "14:30",
          "14:45",
          "15:00",
          "15:15",
          "15:30",
          "15:45",
          "16:00",
          "16:15",
          "16:30",
          "16:45",
          "17:00",
          "17:15",
          "17:30",
          "17:45",
          "18:00",
          "18:15",
          "18:30",
          "18:45",
          "19:00",
          "19:15",
          "19:30",
          "19:45",
          "20:00",
          "20:15",
          "20:30",
          "20:45",
          "21:00",
          "21:15",
          "21:30",
          "21:45",
          "22:00",
          "22:15",
          "22:30",
          "22:45",
          "23:00",
          "23:15",
          "23:30",
          "23:45"
         ],
         "y": [
          12917.944720685815,
          12799.025326334657,
          12652.039797550255,
          12457.312906070132,
          12209.057820052383,
          12095.635915951034,
          11903.802440391864,
          11863.58395909062,
          11914.508079299389,
          11757.395594791653,
          11620.537021730586,
          11558.617921022196,
          11478.180958419709,
          11446.353383289228,
          11442.59194259199,
          11422.91671432951,
          11414.236466566652,
          11365.048395910455,
          11424.652763882083,
          11324.82991460921,
          11316.728350030544,
          11262.91081390082,
          11226.453773296817,
          11130.392364721183,
          11098.564789590702,
          11107.534378945656,
          11109.849111682419,
          11141.966028404995,
          11278.824601466062,
          11263.778838677106,
          11320.779132319876,
          11374.307326857504,
          11570.770267890199,
          11653.811304821544,
          11671.75048353145,
          11751.319421357652,
          12085.798301819794,
          12246.093543840578,
          12394.236438993361,
          12474.673401595848,
          12610.663949880629,
          12771.24853349351,
          12909.553814515053,
          13075.346546785648,
          13275.860270107676,
          13486.790290745133,
          13661.552612370682,
          13662.131295554873,
          13682.674548593637,
          13697.430969790497,
          13809.695507523465,
          13570.699352452764,
          13471.16584477199,
          13381.759292814548,
          13419.952382971125,
          13419.373699786935,
          13284.540517870533,
          13219.438659649097,
          13210.179728702047,
          13211.337095070428,
          13231.301664925002,
          13172.854663321756,
          13184.428327005568,
          13260.23582413453,
          13467.115062482655,
          13657.212488489253,
          13962.757209741867,
          14309.099095479916,
          14657.755713954726,
          14802.715851594461,
          14984.422371430297,
          15049.524229651734,
          15131.98658339889,
          15184.64675316023,
          15125.042385188603,
          15074.40760657193,
          14999.757475811346,
          14922.213929129812,
          14823.837787817418,
          14651.679540520727,
          14546.937884182234,
          14378.830419174878,
          14223.743325811809,
          14100.773149171315,
          14019.468161792542,
          13871.903949823949,
          13869.878558679284,
          13803.040650905274,
          13903.15284177024,
          13816.63970573375,
          13674.862325607064,
          13507.622885375993,
          13260.23582413453,
          13085.184160916888,
          12911.868547251815,
          12629.760494958919
         ]
        },
        {
         "fill": "tozeroy",
         "mode": "lines",
         "name": "Total Renewable Production",
         "type": "scatter",
         "x": [
          "00:00",
          "00:15",
          "00:30",
          "00:45",
          "01:00",
          "01:15",
          "01:30",
          "01:45",
          "02:00",
          "02:15",
          "02:30",
          "02:45",
          "03:00",
          "03:15",
          "03:30",
          "03:45",
          "04:00",
          "04:15",
          "04:30",
          "04:45",
          "05:00",
          "05:15",
          "05:30",
          "05:45",
          "06:00",
          "06:15",
          "06:30",
          "06:45",
          "07:00",
          "07:15",
          "07:30",
          "07:45",
          "08:00",
          "08:15",
          "08:30",
          "08:45",
          "09:00",
          "09:15",
          "09:30",
          "09:45",
          "10:00",
          "10:15",
          "10:30",
          "10:45",
          "11:00",
          "11:15",
          "11:30",
          "11:45",
          "12:00",
          "12:15",
          "12:30",
          "12:45",
          "13:00",
          "13:15",
          "13:30",
          "13:45",
          "14:00",
          "14:15",
          "14:30",
          "14:45",
          "15:00",
          "15:15",
          "15:30",
          "15:45",
          "16:00",
          "16:15",
          "16:30",
          "16:45",
          "17:00",
          "17:15",
          "17:30",
          "17:45",
          "18:00",
          "18:15",
          "18:30",
          "18:45",
          "19:00",
          "19:15",
          "19:30",
          "19:45",
          "20:00",
          "20:15",
          "20:30",
          "20:45",
          "21:00",
          "21:15",
          "21:30",
          "21:45",
          "22:00",
          "22:15",
          "22:30",
          "22:45",
          "23:00",
          "23:15",
          "23:30",
          "23:45"
         ],
         "y": [
          20370.072582499997,
          20232.2521025,
          19951.093922499997,
          19809.59007,
          19513.992755,
          19487.3933925,
          19249.74094,
          18944.716825,
          18846.0839625,
          18674.039964999996,
          18261.291377499998,
          18137.681435,
          17953.9234075,
          17778.209485,
          17588.20472,
          17696.0471575,
          17361.165107499997,
          17447.0091225,
          17164.50557,
          16798.738885,
          16271.62948,
          15811.4533725,
          15424.421664999998,
          15236.445455,
          15313.9468575,
          15387.476722499998,
          15591.234302500001,
          15737.724585,
          15610.3711625,
          15336.048107499999,
          15079.9227025,
          14843.691457500001,
          14474.805454999998,
          13991.000375,
          13887.460665,
          14299.188732499999,
          14771.3384725,
          15192.090825,
          15379.044384999997,
          15581.580509999998,
          15904.575262499999,
          16195.6249875,
          16618.303055,
          16826.127712499998,
          16919.619025,
          17389.687172500002,
          17806.36802,
          17962.42276,
          18147.172585,
          18476.591074999997,
          18547.754062499997,
          18355.690004999997,
          17945.072152499997,
          17555.0338575,
          17086.2113225,
          16663.1448375,
          16230.640627499997,
          15680.309512499998,
          15152.621322500001,
          14627.206329999999,
          14108.0647275,
          13459.4722025,
          12992.75357,
          12709.783802499998,
          12634.009965,
          12674.640889999999,
          12822.13558,
          13102.747852499999,
          13427.024754999999,
          13658.603824999998,
          13919.630245,
          14168.86115,
          14466.599192499998,
          14692.0201925,
          14913.201657499998,
          15289.131865,
          15629.351014999998,
          15778.780472499999,
          15977.944019999999,
          16166.0662875,
          16424.201302499998,
          16484.363517499998,
          16574.7505125,
          16674.5840475,
          16717.993609999998,
          16901.5002125,
          17018.313785,
          17177.152309999998,
          17043.171505,
          17281.274319999997,
          17421.152652499997,
          17431.066465,
          17448.026845,
          17617.718559999998,
          17637.8733625,
          17654.54089
         ]
        }
       ],
       "layout": {
        "showlegend": true,
        "template": {
         "data": {
          "candlestick": [
           {
            "decreasing": {
             "line": {
              "color": "#000033"
             }
            },
            "increasing": {
             "line": {
              "color": "#000032"
             }
            },
            "type": "candlestick"
           }
          ],
          "contour": [
           {
            "colorscale": [
             [
              0,
              "#000011"
             ],
             [
              0.1111111111111111,
              "#000012"
             ],
             [
              0.2222222222222222,
              "#000013"
             ],
             [
              0.3333333333333333,
              "#000014"
             ],
             [
              0.4444444444444444,
              "#000015"
             ],
             [
              0.5555555555555556,
              "#000016"
             ],
             [
              0.6666666666666666,
              "#000017"
             ],
             [
              0.7777777777777778,
              "#000018"
             ],
             [
              0.8888888888888888,
              "#000019"
             ],
             [
              1,
              "#000020"
             ]
            ],
            "type": "contour"
           }
          ],
          "contourcarpet": [
           {
            "colorscale": [
             [
              0,
              "#000011"
             ],
             [
              0.1111111111111111,
              "#000012"
             ],
             [
              0.2222222222222222,
              "#000013"
             ],
             [
              0.3333333333333333,
              "#000014"
             ],
             [
              0.4444444444444444,
              "#000015"
             ],
             [
              0.5555555555555556,
              "#000016"
             ],
             [
              0.6666666666666666,
              "#000017"
             ],
             [
              0.7777777777777778,
              "#000018"
             ],
             [
              0.8888888888888888,
              "#000019"
             ],
             [
              1,
              "#000020"
             ]
            ],
            "type": "contourcarpet"
           }
          ],
          "heatmap": [
           {
            "colorscale": [
             [
              0,
              "#000011"
             ],
             [
              0.1111111111111111,
              "#000012"
             ],
             [
              0.2222222222222222,
              "#000013"
             ],
             [
              0.3333333333333333,
              "#000014"
             ],
             [
              0.4444444444444444,
              "#000015"
             ],
             [
              0.5555555555555556,
              "#000016"
             ],
             [
              0.6666666666666666,
              "#000017"
             ],
             [
              0.7777777777777778,
              "#000018"
             ],
             [
              0.8888888888888888,
              "#000019"
             ],
             [
              1,
              "#000020"
             ]
            ],
            "type": "heatmap"
           }
          ],
          "histogram2d": [
           {
            "colorscale": [
             [
              0,
              "#000011"
             ],
             [
              0.1111111111111111,
              "#000012"
             ],
             [
              0.2222222222222222,
              "#000013"
             ],
             [
              0.3333333333333333,
              "#000014"
             ],
             [
              0.4444444444444444,
              "#000015"
             ],
             [
              0.5555555555555556,
              "#000016"
             ],
             [
              0.6666666666666666,
              "#000017"
             ],
             [
              0.7777777777777778,
              "#000018"
             ],
             [
              0.8888888888888888,
              "#000019"
             ],
             [
              1,
              "#000020"
             ]
            ],
            "type": "histogram2d"
           }
          ],
          "icicle": [
           {
            "textfont": {
             "color": "white"
            },
            "type": "icicle"
           }
          ],
          "sankey": [
           {
            "textfont": {
             "color": "#000036"
            },
            "type": "sankey"
           }
          ],
          "scatter": [
           {
            "marker": {
             "line": {
              "width": 0
             }
            },
            "type": "scatter"
           }
          ],
          "table": [
           {
            "cells": {
             "fill": {
              "color": "#000038"
             },
             "font": {
              "color": "#000037"
             },
             "line": {
              "color": "#000039"
             }
            },
            "header": {
             "fill": {
              "color": "#000040"
             },
             "font": {
              "color": "#000036"
             },
             "line": {
              "color": "#000039"
             }
            },
            "type": "table"
           }
          ],
          "waterfall": [
           {
            "connector": {
             "line": {
              "color": "#000036",
              "width": 2
             }
            },
            "decreasing": {
             "marker": {
              "color": "#000033"
             }
            },
            "increasing": {
             "marker": {
              "color": "#000032"
             }
            },
            "totals": {
             "marker": {
              "color": "#000034"
             }
            },
            "type": "waterfall"
           }
          ]
         },
         "layout": {
          "coloraxis": {
           "colorscale": [
            [
             0,
             "#000011"
            ],
            [
             0.1111111111111111,
             "#000012"
            ],
            [
             0.2222222222222222,
             "#000013"
            ],
            [
             0.3333333333333333,
             "#000014"
            ],
            [
             0.4444444444444444,
             "#000015"
            ],
            [
             0.5555555555555556,
             "#000016"
            ],
            [
             0.6666666666666666,
             "#000017"
            ],
            [
             0.7777777777777778,
             "#000018"
            ],
            [
             0.8888888888888888,
             "#000019"
            ],
            [
             1,
             "#000020"
            ]
           ]
          },
          "colorscale": {
           "diverging": [
            [
             0,
             "#000021"
            ],
            [
             0.1,
             "#000022"
            ],
            [
             0.2,
             "#000023"
            ],
            [
             0.3,
             "#000024"
            ],
            [
             0.4,
             "#000025"
            ],
            [
             0.5,
             "#000026"
            ],
            [
             0.6,
             "#000027"
            ],
            [
             0.7,
             "#000028"
            ],
            [
             0.8,
             "#000029"
            ],
            [
             0.9,
             "#000030"
            ],
            [
             1,
             "#000031"
            ]
           ],
           "sequential": [
            [
             0,
             "#000011"
            ],
            [
             0.1111111111111111,
             "#000012"
            ],
            [
             0.2222222222222222,
             "#000013"
            ],
            [
             0.3333333333333333,
             "#000014"
            ],
            [
             0.4444444444444444,
             "#000015"
            ],
            [
             0.5555555555555556,
             "#000016"
            ],
            [
             0.6666666666666666,
             "#000017"
            ],
            [
             0.7777777777777778,
             "#000018"
            ],
            [
             0.8888888888888888,
             "#000019"
            ],
            [
             1,
             "#000020"
            ]
           ],
           "sequentialminus": [
            [
             0,
             "#000011"
            ],
            [
             0.1111111111111111,
             "#000012"
            ],
            [
             0.2222222222222222,
             "#000013"
            ],
            [
             0.3333333333333333,
             "#000014"
            ],
            [
             0.4444444444444444,
             "#000015"
            ],
            [
             0.5555555555555556,
             "#000016"
            ],
            [
             0.6666666666666666,
             "#000017"
            ],
            [
             0.7777777777777778,
             "#000018"
            ],
            [
             0.8888888888888888,
             "#000019"
            ],
            [
             1,
             "#000020"
            ]
           ]
          },
          "colorway": [
           "#000001",
           "#000002",
           "#000003",
           "#000004",
           "#000005",
           "#000006",
           "#000007",
           "#000008",
           "#000009",
           "#000010"
          ]
         }
        },
        "title": {
         "text": "Energy Production and Consumption on 2030-01-01 00:00:00"
        },
        "xaxis": {
         "anchor": "y",
         "domain": [
          0,
          1
         ],
         "title": {
          "text": "Time (hours)"
         }
        },
        "yaxis": {
         "anchor": "x",
         "domain": [
          0,
          1
         ],
         "title": {
          "text": "Energy (MWh)"
         }
        }
       }
      }
     },
     "metadata": {},
     "output_type": "display_data"
    },
    {
     "data": {
      "application/vnd.plotly.v1+json": {
       "config": {
        "plotlyServerURL": "https://plot.ly"
       },
       "data": [
        {
         "type": "bar",
         "x": [
          0,
          1,
          2,
          3,
          4,
          5,
          6,
          7,
          8,
          9,
          10,
          11,
          12,
          13,
          14,
          15,
          16,
          17,
          18,
          19,
          20,
          21,
          22,
          23,
          24,
          25,
          26,
          27,
          28,
          29,
          30,
          31,
          32,
          33,
          34,
          35,
          36,
          37,
          38,
          39,
          40,
          41,
          42,
          43,
          44,
          45,
          46,
          47,
          48,
          49,
          50,
          51,
          52,
          53,
          54,
          55,
          56,
          57,
          58,
          59,
          60,
          61,
          62,
          63,
          64,
          65,
          66,
          67,
          68,
          69,
          70,
          71,
          72,
          73,
          74,
          75,
          76,
          77,
          78,
          79,
          80,
          81,
          82,
          83,
          84,
          85,
          86,
          87,
          88,
          89,
          90,
          91,
          92,
          93,
          94,
          95,
          96,
          97,
          98,
          99,
          100,
          101,
          102,
          103,
          104,
          105,
          106,
          107,
          108,
          109,
          110,
          111,
          112,
          113,
          114,
          115,
          116,
          117,
          118,
          119,
          120,
          121,
          122,
          123,
          124,
          125,
          126,
          127,
          128,
          129,
          130,
          131,
          132,
          133,
          134,
          135,
          136,
          137,
          138,
          139,
          140,
          141,
          142,
          143,
          144,
          145,
          146,
          147,
          148,
          149,
          150,
          151,
          152,
          153,
          154,
          155,
          156,
          157,
          158,
          159,
          160,
          161,
          162,
          163,
          164,
          165,
          166,
          167,
          168,
          169,
          170,
          171,
          172,
          173,
          174,
          175,
          176,
          177,
          178,
          179,
          180,
          181,
          182,
          183,
          184,
          185,
          186,
          187,
          188,
          189,
          190,
          191,
          192,
          193,
          194,
          195,
          196,
          197,
          198,
          199,
          200,
          201,
          202,
          203,
          204,
          205,
          206,
          207,
          208,
          209,
          210,
          211,
          212,
          213,
          214,
          215,
          216,
          217,
          218,
          219,
          220,
          221,
          222,
          223,
          224,
          225,
          226,
          227,
          228,
          229,
          230,
          231,
          232,
          233,
          234,
          235,
          236,
          237,
          238,
          239,
          240,
          241,
          242,
          243,
          244,
          245,
          246,
          247,
          248,
          249,
          250,
          251,
          252,
          253,
          254,
          255,
          256,
          257,
          258,
          259,
          260,
          261,
          262,
          263,
          264,
          265,
          266,
          267,
          268,
          269,
          270,
          271,
          272,
          273,
          274,
          275,
          276,
          277,
          278,
          279,
          280,
          281,
          282,
          283,
          284,
          285,
          286,
          287,
          288,
          289,
          290,
          291,
          292,
          293,
          294,
          295,
          296,
          297,
          298,
          299,
          300,
          301,
          302,
          303,
          304,
          305,
          306,
          307,
          308,
          309,
          310,
          311,
          312,
          313,
          314,
          315,
          316,
          317,
          318,
          319,
          320,
          321,
          322,
          323,
          324,
          325,
          326,
          327,
          328
         ],
         "y": [
          0,
          0,
          0,
          0,
          0,
          0,
          0,
          0,
          0,
          0,
          0,
          0,
          1,
          18,
          30,
          48,
          65,
          93,
          122,
          126,
          158,
          171,
          198,
          208,
          204,
          240,
          247,
          261,
          257,
          286,
          286,
          260,
          254,
          237,
          290,
          250,
          250,
          229,
          279,
          284,
          289,
          270,
          265,
          279,
          273,
          264,
          292,
          302,
          314,
          321,
          298,
          291,
          280,
          276,
          237,
          236,
          233,
          259,
          258,
          249,
          236,
          252,
          238,
          231,
          206,
          217,
          224,
          232,
          239,
          198,
          240,
          206,
          203,
          227,
          190,
          221,
          239,
          238,
          230,
          199,
          201,
          209,
          218,
          207,
          191,
          213,
          173,
          196,
          211,
          249,
          261,
          213,
          217,
          237,
          213,
          204,
          217,
          231,
          219,
          196,
          222,
          208,
          216,
          202,
          209,
          198,
          201,
          218,
          200,
          208,
          217,
          201,
          186,
          212,
          202,
          203,
          181,
          222,
          221,
          217,
          198,
          192,
          196,
          195,
          189,
          207,
          200,
          174,
          172,
          194,
          190,
          195,
          172,
          177,
          176,
          182,
          174,
          178,
          160,
          161,
          190,
          159,
          197,
          194,
          154,
          168,
          171,
          144,
          130,
          117,
          142,
          148,
          125,
          132,
          141,
          145,
          144,
          138,
          136,
          115,
          120,
          138,
          135,
          122,
          114,
          128,
          109,
          91,
          106,
          109,
          89,
          91,
          95,
          74,
          104,
          97,
          77,
          71,
          95,
          76,
          77,
          68,
          72,
          68,
          77,
          75,
          82,
          74,
          72,
          76,
          68,
          54,
          47,
          55,
          59,
          64,
          38,
          52,
          47,
          31,
          48,
          22,
          39,
          34,
          53,
          39,
          39,
          46,
          30,
          43,
          29,
          37,
          38,
          31,
          21,
          33,
          30,
          29,
          33,
          30,
          23,
          24,
          19,
          25,
          22,
          26,
          21,
          25,
          16,
          16,
          19,
          19,
          24,
          24,
          12,
          14,
          19,
          15,
          13,
          17,
          16,
          13,
          13,
          12,
          13,
          13,
          8,
          9,
          9,
          12,
          3,
          9,
          4,
          5,
          5,
          5,
          8,
          7,
          9,
          4,
          4,
          13,
          6,
          6,
          8,
          4,
          5,
          3,
          2,
          0,
          1,
          1,
          1,
          1,
          0,
          2,
          1,
          1,
          3,
          0,
          3,
          3,
          3,
          1,
          1,
          0,
          0,
          0,
          0,
          0,
          0,
          0,
          0,
          0,
          0,
          0,
          0,
          0,
          0,
          0,
          0,
          0,
          0,
          0,
          0,
          0,
          0,
          0,
          0,
          0,
          0,
          0,
          0,
          0,
          0,
          0,
          0,
          0,
          0,
          0,
          0,
          0,
          0,
          0,
          0,
          0,
          0,
          0,
          0
         ]
        }
       ],
       "layout": {
        "template": {
         "data": {
          "candlestick": [
           {
            "decreasing": {
             "line": {
              "color": "#000033"
             }
            },
            "increasing": {
             "line": {
              "color": "#000032"
             }
            },
            "type": "candlestick"
           }
          ],
          "contour": [
           {
            "colorscale": [
             [
              0,
              "#000011"
             ],
             [
              0.1111111111111111,
              "#000012"
             ],
             [
              0.2222222222222222,
              "#000013"
             ],
             [
              0.3333333333333333,
              "#000014"
             ],
             [
              0.4444444444444444,
              "#000015"
             ],
             [
              0.5555555555555556,
              "#000016"
             ],
             [
              0.6666666666666666,
              "#000017"
             ],
             [
              0.7777777777777778,
              "#000018"
             ],
             [
              0.8888888888888888,
              "#000019"
             ],
             [
              1,
              "#000020"
             ]
            ],
            "type": "contour"
           }
          ],
          "contourcarpet": [
           {
            "colorscale": [
             [
              0,
              "#000011"
             ],
             [
              0.1111111111111111,
              "#000012"
             ],
             [
              0.2222222222222222,
              "#000013"
             ],
             [
              0.3333333333333333,
              "#000014"
             ],
             [
              0.4444444444444444,
              "#000015"
             ],
             [
              0.5555555555555556,
              "#000016"
             ],
             [
              0.6666666666666666,
              "#000017"
             ],
             [
              0.7777777777777778,
              "#000018"
             ],
             [
              0.8888888888888888,
              "#000019"
             ],
             [
              1,
              "#000020"
             ]
            ],
            "type": "contourcarpet"
           }
          ],
          "heatmap": [
           {
            "colorscale": [
             [
              0,
              "#000011"
             ],
             [
              0.1111111111111111,
              "#000012"
             ],
             [
              0.2222222222222222,
              "#000013"
             ],
             [
              0.3333333333333333,
              "#000014"
             ],
             [
              0.4444444444444444,
              "#000015"
             ],
             [
              0.5555555555555556,
              "#000016"
             ],
             [
              0.6666666666666666,
              "#000017"
             ],
             [
              0.7777777777777778,
              "#000018"
             ],
             [
              0.8888888888888888,
              "#000019"
             ],
             [
              1,
              "#000020"
             ]
            ],
            "type": "heatmap"
           }
          ],
          "histogram2d": [
           {
            "colorscale": [
             [
              0,
              "#000011"
             ],
             [
              0.1111111111111111,
              "#000012"
             ],
             [
              0.2222222222222222,
              "#000013"
             ],
             [
              0.3333333333333333,
              "#000014"
             ],
             [
              0.4444444444444444,
              "#000015"
             ],
             [
              0.5555555555555556,
              "#000016"
             ],
             [
              0.6666666666666666,
              "#000017"
             ],
             [
              0.7777777777777778,
              "#000018"
             ],
             [
              0.8888888888888888,
              "#000019"
             ],
             [
              1,
              "#000020"
             ]
            ],
            "type": "histogram2d"
           }
          ],
          "icicle": [
           {
            "textfont": {
             "color": "white"
            },
            "type": "icicle"
           }
          ],
          "sankey": [
           {
            "textfont": {
             "color": "#000036"
            },
            "type": "sankey"
           }
          ],
          "scatter": [
           {
            "marker": {
             "line": {
              "width": 0
             }
            },
            "type": "scatter"
           }
          ],
          "table": [
           {
            "cells": {
             "fill": {
              "color": "#000038"
             },
             "font": {
              "color": "#000037"
             },
             "line": {
              "color": "#000039"
             }
            },
            "header": {
             "fill": {
              "color": "#000040"
             },
             "font": {
              "color": "#000036"
             },
             "line": {
              "color": "#000039"
             }
            },
            "type": "table"
           }
          ],
          "waterfall": [
           {
            "connector": {
             "line": {
              "color": "#000036",
              "width": 2
             }
            },
            "decreasing": {
             "marker": {
              "color": "#000033"
             }
            },
            "increasing": {
             "marker": {
              "color": "#000032"
             }
            },
            "totals": {
             "marker": {
              "color": "#000034"
             }
            },
            "type": "waterfall"
           }
          ]
         },
         "layout": {
          "coloraxis": {
           "colorscale": [
            [
             0,
             "#000011"
            ],
            [
             0.1111111111111111,
             "#000012"
            ],
            [
             0.2222222222222222,
             "#000013"
            ],
            [
             0.3333333333333333,
             "#000014"
            ],
            [
             0.4444444444444444,
             "#000015"
            ],
            [
             0.5555555555555556,
             "#000016"
            ],
            [
             0.6666666666666666,
             "#000017"
            ],
            [
             0.7777777777777778,
             "#000018"
            ],
            [
             0.8888888888888888,
             "#000019"
            ],
            [
             1,
             "#000020"
            ]
           ]
          },
          "colorscale": {
           "diverging": [
            [
             0,
             "#000021"
            ],
            [
             0.1,
             "#000022"
            ],
            [
             0.2,
             "#000023"
            ],
            [
             0.3,
             "#000024"
            ],
            [
             0.4,
             "#000025"
            ],
            [
             0.5,
             "#000026"
            ],
            [
             0.6,
             "#000027"
            ],
            [
             0.7,
             "#000028"
            ],
            [
             0.8,
             "#000029"
            ],
            [
             0.9,
             "#000030"
            ],
            [
             1,
             "#000031"
            ]
           ],
           "sequential": [
            [
             0,
             "#000011"
            ],
            [
             0.1111111111111111,
             "#000012"
            ],
            [
             0.2222222222222222,
             "#000013"
            ],
            [
             0.3333333333333333,
             "#000014"
            ],
            [
             0.4444444444444444,
             "#000015"
            ],
            [
             0.5555555555555556,
             "#000016"
            ],
            [
             0.6666666666666666,
             "#000017"
            ],
            [
             0.7777777777777778,
             "#000018"
            ],
            [
             0.8888888888888888,
             "#000019"
            ],
            [
             1,
             "#000020"
            ]
           ],
           "sequentialminus": [
            [
             0,
             "#000011"
            ],
            [
             0.1111111111111111,
             "#000012"
            ],
            [
             0.2222222222222222,
             "#000013"
            ],
            [
             0.3333333333333333,
             "#000014"
            ],
            [
             0.4444444444444444,
             "#000015"
            ],
            [
             0.5555555555555556,
             "#000016"
            ],
            [
             0.6666666666666666,
             "#000017"
            ],
            [
             0.7777777777777778,
             "#000018"
            ],
            [
             0.8888888888888888,
             "#000019"
            ],
            [
             1,
             "#000020"
            ]
           ]
          },
          "colorway": [
           "#000001",
           "#000002",
           "#000003",
           "#000004",
           "#000005",
           "#000006",
           "#000007",
           "#000008",
           "#000009",
           "#000010"
          ]
         }
        },
        "title": {
         "text": "Anzahl der Viertelstunden im Jahren 2030 mit 0-330 % EE-Anteil"
        },
        "xaxis": {
         "tickmode": "array",
         "ticktext": [
          "0%",
          "5%",
          "10%",
          "15%",
          "20%",
          "25%",
          "30%",
          "35%",
          "40%",
          "45%",
          "50%",
          "55%",
          "60%",
          "65%",
          "70%",
          "75%",
          "80%",
          "85%",
          "90%",
          "95%",
          "100%",
          "105%",
          "110%",
          "115%",
          "120%",
          "125%",
          "130%",
          "135%",
          "140%",
          "145%",
          "150%",
          "155%",
          "160%",
          "165%",
          "170%",
          "175%",
          "180%",
          "185%",
          "190%",
          "195%",
          "200%",
          "205%",
          "210%",
          "215%",
          "220%",
          "225%",
          "230%",
          "235%",
          "240%",
          "245%",
          "250%",
          "255%",
          "260%",
          "265%",
          "270%",
          "275%",
          "280%",
          "285%",
          "290%",
          "295%",
          "300%",
          "305%",
          "310%",
          "315%",
          "320%",
          "325%"
         ],
         "tickvals": [
          0,
          5,
          10,
          15,
          20,
          25,
          30,
          35,
          40,
          45,
          50,
          55,
          60,
          65,
          70,
          75,
          80,
          85,
          90,
          95,
          100,
          105,
          110,
          115,
          120,
          125,
          130,
          135,
          140,
          145,
          150,
          155,
          160,
          165,
          170,
          175,
          180,
          185,
          190,
          195,
          200,
          205,
          210,
          215,
          220,
          225,
          230,
          235,
          240,
          245,
          250,
          255,
          260,
          265,
          270,
          275,
          280,
          285,
          290,
          295,
          300,
          305,
          310,
          315,
          320,
          325
         ],
         "title": {
          "text": "Prozentsatz erneuerbarer Energie"
         }
        },
        "yaxis": {
         "title": {
          "text": "Anzahl der Viertelstunden"
         }
        }
       }
      }
     },
     "metadata": {},
     "output_type": "display_data"
    },
    {
     "name": "stdout",
     "output_type": "stream",
     "text": [
      "soviele VS sind in scaled_production_df:\n",
      "96\n",
      "Viertelstunden aus 2030 expected 35040 hier: \n",
      "70176    157.69\n",
      "70177    158.08\n",
      "70178    157.69\n",
      "70179    159.02\n",
      "70180    159.83\n",
      "          ...  \n",
      "105211   168.13\n",
      "105212   164.58\n",
      "105213   164.12\n",
      "105214   164.76\n",
      "105215   164.75\n",
      "Length: 35040, dtype: float64\n"
     ]
    },
    {
     "data": {
      "application/vnd.plotly.v1+json": {
       "config": {
        "plotlyServerURL": "https://plot.ly"
       },
       "data": [
        {
         "type": "bar",
         "x": [
          0,
          1,
          2,
          3,
          4,
          5,
          6,
          7,
          8,
          9,
          10,
          11,
          12,
          13,
          14,
          15,
          16,
          17,
          18,
          19,
          20,
          21,
          22,
          23,
          24,
          25,
          26,
          27,
          28,
          29,
          30,
          31,
          32,
          33,
          34,
          35,
          36,
          37,
          38,
          39,
          40,
          41,
          42,
          43,
          44,
          45,
          46,
          47,
          48,
          49,
          50,
          51,
          52,
          53,
          54,
          55,
          56,
          57,
          58,
          59,
          60,
          61,
          62,
          63,
          64,
          65,
          66,
          67,
          68,
          69,
          70,
          71,
          72,
          73,
          74,
          75,
          76,
          77,
          78,
          79,
          80,
          81,
          82,
          83,
          84,
          85,
          86,
          87,
          88,
          89,
          90,
          91,
          92,
          93,
          94,
          95,
          96,
          97,
          98,
          99,
          100,
          101,
          102,
          103,
          104,
          105,
          106,
          107,
          108,
          109,
          110,
          111,
          112,
          113,
          114,
          115,
          116,
          117,
          118,
          119,
          120,
          121,
          122,
          123,
          124,
          125,
          126,
          127,
          128,
          129,
          130,
          131,
          132,
          133,
          134,
          135,
          136,
          137,
          138,
          139,
          140,
          141,
          142,
          143,
          144,
          145,
          146,
          147,
          148,
          149,
          150,
          151,
          152,
          153,
          154,
          155,
          156,
          157,
          158,
          159,
          160,
          161,
          162,
          163,
          164,
          165,
          166,
          167,
          168,
          169,
          170,
          171,
          172,
          173,
          174,
          175,
          176,
          177,
          178,
          179,
          180,
          181,
          182,
          183,
          184,
          185,
          186,
          187,
          188,
          189,
          190,
          191,
          192,
          193,
          194,
          195,
          196,
          197,
          198,
          199,
          200,
          201,
          202,
          203,
          204,
          205,
          206,
          207,
          208,
          209,
          210,
          211,
          212,
          213,
          214,
          215,
          216,
          217,
          218,
          219,
          220,
          221,
          222,
          223,
          224,
          225,
          226,
          227,
          228,
          229,
          230,
          231,
          232,
          233,
          234,
          235,
          236,
          237,
          238,
          239,
          240,
          241,
          242,
          243,
          244,
          245,
          246,
          247,
          248,
          249,
          250,
          251,
          252,
          253,
          254,
          255,
          256,
          257,
          258,
          259,
          260,
          261,
          262,
          263,
          264,
          265,
          266,
          267,
          268,
          269,
          270,
          271,
          272,
          273,
          274,
          275,
          276,
          277,
          278,
          279,
          280,
          281,
          282,
          283,
          284,
          285,
          286,
          287,
          288,
          289,
          290,
          291,
          292,
          293,
          294,
          295,
          296,
          297,
          298,
          299,
          300
         ],
         "y": [
          35040,
          35040,
          35040,
          35040,
          35040,
          35040,
          35040,
          35040,
          35040,
          35040,
          35040,
          35040,
          35040,
          35039,
          35021,
          34991,
          34943,
          34878,
          34785,
          34663,
          34537,
          34379,
          34208,
          34010,
          33802,
          33598,
          33358,
          33111,
          32850,
          32593,
          32307,
          32021,
          31761,
          31507,
          31270,
          30980,
          30730,
          30480,
          30251,
          29972,
          29688,
          29399,
          29129,
          28864,
          28585,
          28312,
          28048,
          27756,
          27454,
          27140,
          26819,
          26521,
          26230,
          25950,
          25674,
          25437,
          25201,
          24968,
          24709,
          24451,
          24202,
          23966,
          23714,
          23476,
          23245,
          23039,
          22822,
          22598,
          22366,
          22127,
          21929,
          21689,
          21483,
          21280,
          21053,
          20863,
          20642,
          20403,
          20165,
          19935,
          19736,
          19535,
          19326,
          19108,
          18901,
          18710,
          18497,
          18324,
          18128,
          17917,
          17668,
          17407,
          17194,
          16977,
          16740,
          16527,
          16323,
          16106,
          15875,
          15656,
          15460,
          15238,
          15030,
          14814,
          14612,
          14403,
          14205,
          14004,
          13786,
          13586,
          13378,
          13161,
          12960,
          12774,
          12562,
          12360,
          12157,
          11976,
          11754,
          11533,
          11316,
          11118,
          10926,
          10730,
          10535,
          10346,
          10139,
          9939,
          9765,
          9593,
          9399,
          9209,
          9014,
          8842,
          8665,
          8489,
          8307,
          8133,
          7955,
          7795,
          7634,
          7444,
          7285,
          7088,
          6894,
          6740,
          6572,
          6401,
          6257,
          6127,
          6010,
          5868,
          5720,
          5595,
          5463,
          5322,
          5177,
          5033,
          4895,
          4759,
          4644,
          4524,
          4386,
          4251,
          4129,
          4015,
          3887,
          3778,
          3687,
          3581,
          3472,
          3383,
          3292,
          3197,
          3123,
          3019,
          2922,
          2845,
          2774,
          2679,
          2603,
          2526,
          2458,
          2386,
          2318,
          2241,
          2166,
          2084,
          2010,
          1938,
          1862,
          1794,
          1740,
          1693,
          1638,
          1579,
          1515,
          1477,
          1425,
          1378,
          1347,
          1299,
          1277,
          1238,
          1204,
          1151,
          1112,
          1073,
          1027,
          997,
          954,
          925,
          888,
          850,
          819,
          798,
          765,
          735,
          706,
          673,
          643,
          620,
          596,
          577,
          552,
          530,
          504,
          483,
          458,
          442,
          426,
          407,
          388,
          364,
          340,
          328,
          314,
          295,
          280,
          267,
          250,
          234,
          221,
          208,
          196,
          183,
          170,
          162,
          153,
          144,
          132,
          129,
          120,
          116,
          111,
          106,
          101,
          93,
          86,
          77,
          73,
          69,
          56,
          50,
          44,
          36,
          32,
          27,
          24,
          22,
          22,
          21,
          20,
          19,
          18,
          18,
          16,
          15,
          14,
          11,
          11,
          8,
          5,
          2,
          1,
          0,
          0,
          0,
          0,
          0,
          0,
          0,
          0,
          0,
          0,
          0,
          0,
          0,
          0,
          0,
          0
         ]
        }
       ],
       "layout": {
        "template": {
         "data": {
          "candlestick": [
           {
            "decreasing": {
             "line": {
              "color": "#000033"
             }
            },
            "increasing": {
             "line": {
              "color": "#000032"
             }
            },
            "type": "candlestick"
           }
          ],
          "contour": [
           {
            "colorscale": [
             [
              0,
              "#000011"
             ],
             [
              0.1111111111111111,
              "#000012"
             ],
             [
              0.2222222222222222,
              "#000013"
             ],
             [
              0.3333333333333333,
              "#000014"
             ],
             [
              0.4444444444444444,
              "#000015"
             ],
             [
              0.5555555555555556,
              "#000016"
             ],
             [
              0.6666666666666666,
              "#000017"
             ],
             [
              0.7777777777777778,
              "#000018"
             ],
             [
              0.8888888888888888,
              "#000019"
             ],
             [
              1,
              "#000020"
             ]
            ],
            "type": "contour"
           }
          ],
          "contourcarpet": [
           {
            "colorscale": [
             [
              0,
              "#000011"
             ],
             [
              0.1111111111111111,
              "#000012"
             ],
             [
              0.2222222222222222,
              "#000013"
             ],
             [
              0.3333333333333333,
              "#000014"
             ],
             [
              0.4444444444444444,
              "#000015"
             ],
             [
              0.5555555555555556,
              "#000016"
             ],
             [
              0.6666666666666666,
              "#000017"
             ],
             [
              0.7777777777777778,
              "#000018"
             ],
             [
              0.8888888888888888,
              "#000019"
             ],
             [
              1,
              "#000020"
             ]
            ],
            "type": "contourcarpet"
           }
          ],
          "heatmap": [
           {
            "colorscale": [
             [
              0,
              "#000011"
             ],
             [
              0.1111111111111111,
              "#000012"
             ],
             [
              0.2222222222222222,
              "#000013"
             ],
             [
              0.3333333333333333,
              "#000014"
             ],
             [
              0.4444444444444444,
              "#000015"
             ],
             [
              0.5555555555555556,
              "#000016"
             ],
             [
              0.6666666666666666,
              "#000017"
             ],
             [
              0.7777777777777778,
              "#000018"
             ],
             [
              0.8888888888888888,
              "#000019"
             ],
             [
              1,
              "#000020"
             ]
            ],
            "type": "heatmap"
           }
          ],
          "histogram2d": [
           {
            "colorscale": [
             [
              0,
              "#000011"
             ],
             [
              0.1111111111111111,
              "#000012"
             ],
             [
              0.2222222222222222,
              "#000013"
             ],
             [
              0.3333333333333333,
              "#000014"
             ],
             [
              0.4444444444444444,
              "#000015"
             ],
             [
              0.5555555555555556,
              "#000016"
             ],
             [
              0.6666666666666666,
              "#000017"
             ],
             [
              0.7777777777777778,
              "#000018"
             ],
             [
              0.8888888888888888,
              "#000019"
             ],
             [
              1,
              "#000020"
             ]
            ],
            "type": "histogram2d"
           }
          ],
          "icicle": [
           {
            "textfont": {
             "color": "white"
            },
            "type": "icicle"
           }
          ],
          "sankey": [
           {
            "textfont": {
             "color": "#000036"
            },
            "type": "sankey"
           }
          ],
          "scatter": [
           {
            "marker": {
             "line": {
              "width": 0
             }
            },
            "type": "scatter"
           }
          ],
          "table": [
           {
            "cells": {
             "fill": {
              "color": "#000038"
             },
             "font": {
              "color": "#000037"
             },
             "line": {
              "color": "#000039"
             }
            },
            "header": {
             "fill": {
              "color": "#000040"
             },
             "font": {
              "color": "#000036"
             },
             "line": {
              "color": "#000039"
             }
            },
            "type": "table"
           }
          ],
          "waterfall": [
           {
            "connector": {
             "line": {
              "color": "#000036",
              "width": 2
             }
            },
            "decreasing": {
             "marker": {
              "color": "#000033"
             }
            },
            "increasing": {
             "marker": {
              "color": "#000032"
             }
            },
            "totals": {
             "marker": {
              "color": "#000034"
             }
            },
            "type": "waterfall"
           }
          ]
         },
         "layout": {
          "coloraxis": {
           "colorscale": [
            [
             0,
             "#000011"
            ],
            [
             0.1111111111111111,
             "#000012"
            ],
            [
             0.2222222222222222,
             "#000013"
            ],
            [
             0.3333333333333333,
             "#000014"
            ],
            [
             0.4444444444444444,
             "#000015"
            ],
            [
             0.5555555555555556,
             "#000016"
            ],
            [
             0.6666666666666666,
             "#000017"
            ],
            [
             0.7777777777777778,
             "#000018"
            ],
            [
             0.8888888888888888,
             "#000019"
            ],
            [
             1,
             "#000020"
            ]
           ]
          },
          "colorscale": {
           "diverging": [
            [
             0,
             "#000021"
            ],
            [
             0.1,
             "#000022"
            ],
            [
             0.2,
             "#000023"
            ],
            [
             0.3,
             "#000024"
            ],
            [
             0.4,
             "#000025"
            ],
            [
             0.5,
             "#000026"
            ],
            [
             0.6,
             "#000027"
            ],
            [
             0.7,
             "#000028"
            ],
            [
             0.8,
             "#000029"
            ],
            [
             0.9,
             "#000030"
            ],
            [
             1,
             "#000031"
            ]
           ],
           "sequential": [
            [
             0,
             "#000011"
            ],
            [
             0.1111111111111111,
             "#000012"
            ],
            [
             0.2222222222222222,
             "#000013"
            ],
            [
             0.3333333333333333,
             "#000014"
            ],
            [
             0.4444444444444444,
             "#000015"
            ],
            [
             0.5555555555555556,
             "#000016"
            ],
            [
             0.6666666666666666,
             "#000017"
            ],
            [
             0.7777777777777778,
             "#000018"
            ],
            [
             0.8888888888888888,
             "#000019"
            ],
            [
             1,
             "#000020"
            ]
           ],
           "sequentialminus": [
            [
             0,
             "#000011"
            ],
            [
             0.1111111111111111,
             "#000012"
            ],
            [
             0.2222222222222222,
             "#000013"
            ],
            [
             0.3333333333333333,
             "#000014"
            ],
            [
             0.4444444444444444,
             "#000015"
            ],
            [
             0.5555555555555556,
             "#000016"
            ],
            [
             0.6666666666666666,
             "#000017"
            ],
            [
             0.7777777777777778,
             "#000018"
            ],
            [
             0.8888888888888888,
             "#000019"
            ],
            [
             1,
             "#000020"
            ]
           ]
          },
          "colorway": [
           "#000001",
           "#000002",
           "#000003",
           "#000004",
           "#000005",
           "#000006",
           "#000007",
           "#000008",
           "#000009",
           "#000010"
          ]
         }
        },
        "title": {
         "text": "Anzahl der Viertelstunden mit erneuerbarer Energieerzeugung über oder gleich dem Verbrauch"
        },
        "xaxis": {
         "title": {
          "text": "Prozentsatz erneuerbarer Energie"
         }
        },
        "yaxis": {
         "title": {
          "text": "Anzahl der Viertelstunden"
         }
        }
       }
      }
     },
     "metadata": {},
     "output_type": "display_data"
    }
   ],
   "source": [
    "# Main program\n",
    "def main():\n",
    "    # File names\n",
    "    file_production = 'Realisierte_Erzeugung_202001010000_202212312359_Viertelstunde.csv'\n",
    "    file_consumption = 'Realisierter_Stromverbrauch_202001010000_202212312359_Viertelstunde.csv'\n",
    "\n",
    "    # Read and clean data\n",
    "    production_df, consumption_df, total_renewable_production, total_consumption, data_by_year = read_and_clean_data(file_production, file_consumption)\n",
    "    \n",
    "    # Find dark lulls for the years 2020-2022\n",
    "    #find_dark_lulls_for_years(production_df, columns_to_clean=['Biomass', 'Hydroelectric', 'Wind Offshore', 'Wind Onshore', 'Photovoltaic', 'Other Renewable'])\n",
    "\n",
    "    # Berechnung und Anzeige des Histogramms für erneuerbare Anteile\n",
    "    #calculate_and_display_renewable_shares_histogram(total_renewable_production, total_consumption)\n",
    "    #calculate_and_display_data_by_year(data_by_year)\n",
    "\n",
    "    #plot_energy_consumption_and_production(production_df, consumption_df, columns_to_clean=['Biomass', 'Hydroelectric', 'Wind Offshore', 'Wind Onshore', 'Photovoltaic', 'Other Renewable'])\n",
    "\n",
    "    process_and_plot_2030_data(production_df, consumption_df)\n",
    "    \n",
    "if __name__ == \"__main__\":\n",
    "    main()"
   ]
  }
 ],
 "metadata": {
  "kernelspec": {
   "display_name": "Python 3",
   "language": "python",
   "name": "python3"
  },
  "language_info": {
   "codemirror_mode": {
    "name": "ipython",
    "version": 3
   },
   "file_extension": ".py",
   "mimetype": "text/x-python",
   "name": "python",
   "nbconvert_exporter": "python",
   "pygments_lexer": "ipython3",
   "version": "3.11.7"
  }
 },
 "nbformat": 4,
 "nbformat_minor": 2
}
